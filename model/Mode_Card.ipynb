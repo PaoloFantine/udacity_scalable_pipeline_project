{
 "cells": [
  {
   "cell_type": "markdown",
   "id": "ad0e6f31-b02f-424e-98f8-7f3fec8c4f03",
   "metadata": {},
   "source": [
    "# Model Card\n",
    "\n",
    "### Model Details \n",
    "Made by Paolo Fantinel\n",
    "\n",
    "The model is a gradient boosting classification model with default parameters.\n",
    "\n",
    "It predicts whether an individual will earn more or less than 50k$ per year \n",
    "\n",
    "### Intended use for the model and the intended users.\n",
    "The model has been trained as a final project for the lesson \"deploying a scalable ML pipeline in production\" of the \"ML devops engineer\" course from udacity.\n",
    "There aren't really any intended users, but somebody willing to predict their own salary in the US could try their hand at using this model\n",
    "\n",
    "### Metrics \n",
    "The model is evaluated via precision, recall and F1 score.\n",
    "Overall performance:"
   ]
  },
  {
   "cell_type": "code",
   "execution_count": 3,
   "id": "7e47fbba-874a-4be9-9018-1da338105270",
   "metadata": {},
   "outputs": [
    {
     "data": {
      "text/html": [
       "<div>\n",
       "<style scoped>\n",
       "    .dataframe tbody tr th:only-of-type {\n",
       "        vertical-align: middle;\n",
       "    }\n",
       "\n",
       "    .dataframe tbody tr th {\n",
       "        vertical-align: top;\n",
       "    }\n",
       "\n",
       "    .dataframe thead th {\n",
       "        text-align: right;\n",
       "    }\n",
       "</style>\n",
       "<table border=\"1\" class=\"dataframe\">\n",
       "  <thead>\n",
       "    <tr style=\"text-align: right;\">\n",
       "      <th></th>\n",
       "      <th>Unnamed: 0</th>\n",
       "      <th>precision</th>\n",
       "      <th>recall</th>\n",
       "      <th>fbeta</th>\n",
       "    </tr>\n",
       "  </thead>\n",
       "  <tbody>\n",
       "    <tr>\n",
       "      <th>0</th>\n",
       "      <td>0</td>\n",
       "      <td>0.788074</td>\n",
       "      <td>0.623724</td>\n",
       "      <td>0.696333</td>\n",
       "    </tr>\n",
       "  </tbody>\n",
       "</table>\n",
       "</div>"
      ],
      "text/plain": [
       "   Unnamed: 0  precision    recall     fbeta\n",
       "0           0   0.788074  0.623724  0.696333"
      ]
     },
     "execution_count": 3,
     "metadata": {},
     "output_type": "execute_result"
    }
   ],
   "source": [
    "import pandas as pd\n",
    "pd.read_csv(\"model_metrics.csv\")"
   ]
  },
  {
   "cell_type": "markdown",
   "id": "70821e56-84a6-4f36-b490-eff51efe8ca4",
   "metadata": {},
   "source": [
    "Several slices are available in this folder, if anyone wonders about performance on their own slice. For example:"
   ]
  },
  {
   "cell_type": "code",
   "execution_count": 4,
   "id": "f5f8ee81-ca41-47f7-8b7c-895fecd83d64",
   "metadata": {},
   "outputs": [
    {
     "data": {
      "text/html": [
       "<div>\n",
       "<style scoped>\n",
       "    .dataframe tbody tr th:only-of-type {\n",
       "        vertical-align: middle;\n",
       "    }\n",
       "\n",
       "    .dataframe tbody tr th {\n",
       "        vertical-align: top;\n",
       "    }\n",
       "\n",
       "    .dataframe thead th {\n",
       "        text-align: right;\n",
       "    }\n",
       "</style>\n",
       "<table border=\"1\" class=\"dataframe\">\n",
       "  <thead>\n",
       "    <tr style=\"text-align: right;\">\n",
       "      <th></th>\n",
       "      <th>Unnamed: 0</th>\n",
       "      <th>Prof-specialty</th>\n",
       "      <th>?</th>\n",
       "      <th>Exec-managerial</th>\n",
       "      <th>Craft-repair</th>\n",
       "      <th>Adm-clerical</th>\n",
       "      <th>Other-service</th>\n",
       "      <th>Sales</th>\n",
       "      <th>Tech-support</th>\n",
       "      <th>Machine-op-inspct</th>\n",
       "      <th>Transport-moving</th>\n",
       "      <th>Handlers-cleaners</th>\n",
       "      <th>Farming-fishing</th>\n",
       "      <th>Protective-serv</th>\n",
       "      <th>Priv-house-serv</th>\n",
       "      <th>Armed-Forces</th>\n",
       "    </tr>\n",
       "  </thead>\n",
       "  <tbody>\n",
       "    <tr>\n",
       "      <th>0</th>\n",
       "      <td>precision</td>\n",
       "      <td>0.836111</td>\n",
       "      <td>0.583333</td>\n",
       "      <td>0.815857</td>\n",
       "      <td>0.336957</td>\n",
       "      <td>0.373984</td>\n",
       "      <td>0.166667</td>\n",
       "      <td>0.602941</td>\n",
       "      <td>0.508772</td>\n",
       "      <td>0.346154</td>\n",
       "      <td>0.229508</td>\n",
       "      <td>0.333333</td>\n",
       "      <td>0.428571</td>\n",
       "      <td>0.642857</td>\n",
       "      <td>1.0</td>\n",
       "      <td>1.0</td>\n",
       "    </tr>\n",
       "    <tr>\n",
       "      <th>1</th>\n",
       "      <td>recall</td>\n",
       "      <td>0.806971</td>\n",
       "      <td>0.750000</td>\n",
       "      <td>0.797500</td>\n",
       "      <td>0.729412</td>\n",
       "      <td>0.730159</td>\n",
       "      <td>0.800000</td>\n",
       "      <td>0.793548</td>\n",
       "      <td>0.743590</td>\n",
       "      <td>0.857143</td>\n",
       "      <td>0.736842</td>\n",
       "      <td>0.571429</td>\n",
       "      <td>1.000000</td>\n",
       "      <td>0.750000</td>\n",
       "      <td>1.0</td>\n",
       "      <td>1.0</td>\n",
       "    </tr>\n",
       "    <tr>\n",
       "      <th>2</th>\n",
       "      <td>fbeta</td>\n",
       "      <td>0.821282</td>\n",
       "      <td>0.656250</td>\n",
       "      <td>0.806574</td>\n",
       "      <td>0.460967</td>\n",
       "      <td>0.494624</td>\n",
       "      <td>0.275862</td>\n",
       "      <td>0.685237</td>\n",
       "      <td>0.604167</td>\n",
       "      <td>0.493151</td>\n",
       "      <td>0.350000</td>\n",
       "      <td>0.421053</td>\n",
       "      <td>0.600000</td>\n",
       "      <td>0.692308</td>\n",
       "      <td>1.0</td>\n",
       "      <td>1.0</td>\n",
       "    </tr>\n",
       "  </tbody>\n",
       "</table>\n",
       "</div>"
      ],
      "text/plain": [
       "  Unnamed: 0  Prof-specialty         ?  Exec-managerial  Craft-repair  \\\n",
       "0  precision        0.836111  0.583333         0.815857      0.336957   \n",
       "1     recall        0.806971  0.750000         0.797500      0.729412   \n",
       "2      fbeta        0.821282  0.656250         0.806574      0.460967   \n",
       "\n",
       "   Adm-clerical  Other-service     Sales  Tech-support  Machine-op-inspct  \\\n",
       "0      0.373984       0.166667  0.602941      0.508772           0.346154   \n",
       "1      0.730159       0.800000  0.793548      0.743590           0.857143   \n",
       "2      0.494624       0.275862  0.685237      0.604167           0.493151   \n",
       "\n",
       "   Transport-moving  Handlers-cleaners  Farming-fishing  Protective-serv  \\\n",
       "0          0.229508           0.333333         0.428571         0.642857   \n",
       "1          0.736842           0.571429         1.000000         0.750000   \n",
       "2          0.350000           0.421053         0.600000         0.692308   \n",
       "\n",
       "   Priv-house-serv  Armed-Forces  \n",
       "0              1.0           1.0  \n",
       "1              1.0           1.0  \n",
       "2              1.0           1.0  "
      ]
     },
     "execution_count": 4,
     "metadata": {},
     "output_type": "execute_result"
    }
   ],
   "source": [
    "pd.read_csv(\"occupation_sliced_metrics.csv\")"
   ]
  },
  {
   "cell_type": "markdown",
   "id": "63344052-595f-4c83-adef-087807eb1191",
   "metadata": {},
   "source": [
    "### Data \n",
    "Data is publicly available at https://archive.ics.uci.edu/ml/datasets/census+income\n",
    "The only processing necessary was removing some trailing whitespaces in text fields. This was done through a text editor. Otherwise the data was rather clean (no missing values or huge cross-correlation of features).\n",
    "OneHotEncoding was used to process text data through the training/inference pipelines. This increases the amount of features considerably and one could try to use different types of encoding to improve performance.\n",
    "\n",
    "For training and testing the data an 80/20 split was used with a random state set to 42 for reproducibility. The split was stratified on the target column (`salary`)\n",
    "\n",
    "### Bias \n",
    "The model performs similarly for man and women:"
   ]
  },
  {
   "cell_type": "code",
   "execution_count": 5,
   "id": "804cc7e7-d09e-4f3d-b57f-e7e653ec2bb4",
   "metadata": {},
   "outputs": [
    {
     "data": {
      "text/html": [
       "<div>\n",
       "<style scoped>\n",
       "    .dataframe tbody tr th:only-of-type {\n",
       "        vertical-align: middle;\n",
       "    }\n",
       "\n",
       "    .dataframe tbody tr th {\n",
       "        vertical-align: top;\n",
       "    }\n",
       "\n",
       "    .dataframe thead th {\n",
       "        text-align: right;\n",
       "    }\n",
       "</style>\n",
       "<table border=\"1\" class=\"dataframe\">\n",
       "  <thead>\n",
       "    <tr style=\"text-align: right;\">\n",
       "      <th></th>\n",
       "      <th>Unnamed: 0</th>\n",
       "      <th>Male</th>\n",
       "      <th>Female</th>\n",
       "    </tr>\n",
       "  </thead>\n",
       "  <tbody>\n",
       "    <tr>\n",
       "      <th>0</th>\n",
       "      <td>precision</td>\n",
       "      <td>0.631897</td>\n",
       "      <td>0.579592</td>\n",
       "    </tr>\n",
       "    <tr>\n",
       "      <th>1</th>\n",
       "      <td>recall</td>\n",
       "      <td>0.778399</td>\n",
       "      <td>0.850299</td>\n",
       "    </tr>\n",
       "    <tr>\n",
       "      <th>2</th>\n",
       "      <td>fbeta</td>\n",
       "      <td>0.697539</td>\n",
       "      <td>0.689320</td>\n",
       "    </tr>\n",
       "  </tbody>\n",
       "</table>\n",
       "</div>"
      ],
      "text/plain": [
       "  Unnamed: 0      Male    Female\n",
       "0  precision  0.631897  0.579592\n",
       "1     recall  0.778399  0.850299\n",
       "2      fbeta  0.697539  0.689320"
      ]
     },
     "execution_count": 5,
     "metadata": {},
     "output_type": "execute_result"
    }
   ],
   "source": [
    "pd.read_csv(\"sex_sliced_metrics.csv\")"
   ]
  },
  {
   "cell_type": "markdown",
   "id": "61c7edc9-14f2-4435-9ec6-53028286f371",
   "metadata": {},
   "source": [
    "It does however carry some bias for white people, possibly due to them being the majority of the data points:"
   ]
  },
  {
   "cell_type": "code",
   "execution_count": 7,
   "id": "bfec18b6-3a66-4510-8760-279f39bb2215",
   "metadata": {},
   "outputs": [
    {
     "data": {
      "text/html": [
       "<div>\n",
       "<style scoped>\n",
       "    .dataframe tbody tr th:only-of-type {\n",
       "        vertical-align: middle;\n",
       "    }\n",
       "\n",
       "    .dataframe tbody tr th {\n",
       "        vertical-align: top;\n",
       "    }\n",
       "\n",
       "    .dataframe thead th {\n",
       "        text-align: right;\n",
       "    }\n",
       "</style>\n",
       "<table border=\"1\" class=\"dataframe\">\n",
       "  <thead>\n",
       "    <tr style=\"text-align: right;\">\n",
       "      <th></th>\n",
       "      <th>Unnamed: 0</th>\n",
       "      <th>White</th>\n",
       "      <th>Black</th>\n",
       "      <th>Asian-Pac-Islander</th>\n",
       "      <th>Amer-Indian-Eskimo</th>\n",
       "      <th>Other</th>\n",
       "    </tr>\n",
       "  </thead>\n",
       "  <tbody>\n",
       "    <tr>\n",
       "      <th>0</th>\n",
       "      <td>precision</td>\n",
       "      <td>0.629078</td>\n",
       "      <td>0.548387</td>\n",
       "      <td>0.634615</td>\n",
       "      <td>0.333333</td>\n",
       "      <td>1.0</td>\n",
       "    </tr>\n",
       "    <tr>\n",
       "      <th>1</th>\n",
       "      <td>recall</td>\n",
       "      <td>0.790553</td>\n",
       "      <td>0.864407</td>\n",
       "      <td>0.647059</td>\n",
       "      <td>0.600000</td>\n",
       "      <td>1.0</td>\n",
       "    </tr>\n",
       "    <tr>\n",
       "      <th>2</th>\n",
       "      <td>fbeta</td>\n",
       "      <td>0.700632</td>\n",
       "      <td>0.671053</td>\n",
       "      <td>0.640777</td>\n",
       "      <td>0.428571</td>\n",
       "      <td>1.0</td>\n",
       "    </tr>\n",
       "  </tbody>\n",
       "</table>\n",
       "</div>"
      ],
      "text/plain": [
       "  Unnamed: 0     White     Black  Asian-Pac-Islander  Amer-Indian-Eskimo  \\\n",
       "0  precision  0.629078  0.548387            0.634615            0.333333   \n",
       "1     recall  0.790553  0.864407            0.647059            0.600000   \n",
       "2      fbeta  0.700632  0.671053            0.640777            0.428571   \n",
       "\n",
       "   Other  \n",
       "0    1.0  \n",
       "1    1.0  \n",
       "2    1.0  "
      ]
     },
     "execution_count": 7,
     "metadata": {},
     "output_type": "execute_result"
    }
   ],
   "source": [
    "pd.read_csv(\"race_sliced_metrics.csv\")"
   ]
  },
  {
   "cell_type": "markdown",
   "id": "aa0e4c84-7dd9-4652-b174-12d45209fde1",
   "metadata": {},
   "source": [
    "## Caveats\n",
    "This model should not be used to making any decision nor should it be used to assess fairness in machine learning. It was only trained as part of an exercise and several steps could be taken in order to improve and assess its performance (like optimizing hyperparameters, using a hold out set, using weights for underrepresented categories and so on)"
   ]
  },
  {
   "cell_type": "code",
   "execution_count": null,
   "id": "25d8b09a-cc17-4ae5-bdbd-37cd59170c41",
   "metadata": {},
   "outputs": [],
   "source": []
  }
 ],
 "metadata": {
  "kernelspec": {
   "display_name": "Python 3 (ipykernel)",
   "language": "python",
   "name": "python3"
  },
  "language_info": {
   "codemirror_mode": {
    "name": "ipython",
    "version": 3
   },
   "file_extension": ".py",
   "mimetype": "text/x-python",
   "name": "python",
   "nbconvert_exporter": "python",
   "pygments_lexer": "ipython3",
   "version": "3.8.15"
  }
 },
 "nbformat": 4,
 "nbformat_minor": 5
}
